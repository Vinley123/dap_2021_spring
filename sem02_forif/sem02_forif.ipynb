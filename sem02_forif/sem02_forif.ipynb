{
 "cells": [
  {
   "cell_type": "markdown",
   "metadata": {},
   "source": [
    "# Анализ данных на Python\n",
    "\n",
    "## Семинар 2. Условный оператор if-else, циклы while и for"
   ]
  },
  {
   "cell_type": "code",
   "execution_count": 15,
   "metadata": {},
   "outputs": [],
   "source": [
    "my_name='Vinley'"
   ]
  },
  {
   "cell_type": "code",
   "execution_count": 16,
   "metadata": {},
   "outputs": [],
   "source": [
    "my_name= my_name+'Orutwa'"
   ]
  },
  {
   "cell_type": "code",
   "execution_count": 17,
   "metadata": {},
   "outputs": [
    {
     "data": {
      "text/plain": [
       "'VinleyOrutwa'"
      ]
     },
     "execution_count": 17,
     "metadata": {},
     "output_type": "execute_result"
    }
   ],
   "source": [
    "my_name"
   ]
  },
  {
   "cell_type": "code",
   "execution_count": 18,
   "metadata": {},
   "outputs": [
    {
     "data": {
      "text/plain": [
       "True"
      ]
     },
     "execution_count": 18,
     "metadata": {},
     "output_type": "execute_result"
    }
   ],
   "source": [
    "True or False"
   ]
  },
  {
   "cell_type": "code",
   "execution_count": 19,
   "metadata": {},
   "outputs": [
    {
     "data": {
      "text/plain": [
       "False"
      ]
     },
     "execution_count": 19,
     "metadata": {},
     "output_type": "execute_result"
    }
   ],
   "source": [
    "False or False"
   ]
  },
  {
   "cell_type": "code",
   "execution_count": 20,
   "metadata": {},
   "outputs": [
    {
     "data": {
      "text/plain": [
       "True"
      ]
     },
     "execution_count": 20,
     "metadata": {},
     "output_type": "execute_result"
    }
   ],
   "source": [
    "True or True"
   ]
  },
  {
   "cell_type": "code",
   "execution_count": 22,
   "metadata": {},
   "outputs": [
    {
     "data": {
      "text/plain": [
       "True"
      ]
     },
     "execution_count": 22,
     "metadata": {},
     "output_type": "execute_result"
    }
   ],
   "source": [
    "True and True"
   ]
  },
  {
   "cell_type": "code",
   "execution_count": 23,
   "metadata": {},
   "outputs": [
    {
     "ename": "SyntaxError",
     "evalue": "invalid syntax (<ipython-input-23-89a6e04251ed>, line 1)",
     "output_type": "error",
     "traceback": [
      "\u001b[1;36m  File \u001b[1;32m\"<ipython-input-23-89a6e04251ed>\"\u001b[1;36m, line \u001b[1;32m1\u001b[0m\n\u001b[1;33m    >,<,==\u001b[0m\n\u001b[1;37m    ^\u001b[0m\n\u001b[1;31mSyntaxError\u001b[0m\u001b[1;31m:\u001b[0m invalid syntax\n"
     ]
    }
   ],
   "source": [
    ">,<,=="
   ]
  },
  {
   "cell_type": "code",
   "execution_count": 24,
   "metadata": {},
   "outputs": [
    {
     "data": {
      "text/plain": [
       "True"
      ]
     },
     "execution_count": 24,
     "metadata": {},
     "output_type": "execute_result"
    }
   ],
   "source": [
    "5>3"
   ]
  },
  {
   "cell_type": "code",
   "execution_count": 25,
   "metadata": {},
   "outputs": [
    {
     "data": {
      "text/plain": [
       "False"
      ]
     },
     "execution_count": 25,
     "metadata": {},
     "output_type": "execute_result"
    }
   ],
   "source": [
    "5<3"
   ]
  },
  {
   "cell_type": "code",
   "execution_count": 26,
   "metadata": {},
   "outputs": [
    {
     "name": "stdout",
     "output_type": "stream",
     "text": [
      "True\n"
     ]
    }
   ],
   "source": [
    "x=1+1\n",
    "y=3+2\n",
    "print(y>x)"
   ]
  },
  {
   "cell_type": "markdown",
   "metadata": {},
   "source": [
    "# Условия"
   ]
  },
  {
   "cell_type": "markdown",
   "metadata": {},
   "source": [
    "Условия – это, наверное, душа программирования. Мы очень часто хотим, чтобы наша программа работала по-разному в зависимости от происходящего. Алгоритмы, использующие условия, называют разветвляющимися, и для их понимания очень удобно рисовать блок-схемы (нет, они не остались в школе, если в коде много условий и разных действий по-прежнему очень помогает нарисовать на бумаге дерево). \n",
    "\n",
    "![](https://github.com/hse-econ-data-science/dap_2021_spring/blob/main/sem02_forif/flowchart.png?raw=true)\n",
    "\n",
    "**Условия (if)** позволяют выполнять код только в случае истинности какого-то логического выражения.\n",
    "\n",
    "Проще говоря, \"если верно, что..., то сделать ...\".\n",
    "\n",
    "Самый простой пример использования if - это вывод какой-то фразы по условию."
   ]
  },
  {
   "cell_type": "code",
   "execution_count": 30,
   "metadata": {},
   "outputs": [
    {
     "name": "stdout",
     "output_type": "stream",
     "text": [
      "Hi from Spain\n",
      "That is true!\n"
     ]
    }
   ],
   "source": [
    "x = 1\n",
    "if x != 1:  # Выражение равно True, это условие истинное\n",
    "    print(\"Hi from Russia\")\n",
    "if x == 1:\n",
    "    print(\"Hi from Spain\")\n",
    "print('That is true!')  # Фраза выводится"
   ]
  },
  {
   "cell_type": "code",
   "execution_count": 2,
   "metadata": {},
   "outputs": [],
   "source": [
    "if x != 1:  # Выражение равно False, это условие ложное\n",
    "    print('That is true!')  # Фраза не выводится"
   ]
  },
  {
   "cell_type": "markdown",
   "metadata": {},
   "source": [
    "Обратите внимание, что код, который находится внутри условия, **выделяется отступом** в 4 пробела или табуляцией (работает не во всех IDE, но в Jupyter все будет хорошо).\n",
    "\n",
    "Иначе программа не поймет, что он относится к условию."
   ]
  },
  {
   "cell_type": "code",
   "execution_count": 3,
   "metadata": {},
   "outputs": [
    {
     "ename": "IndentationError",
     "evalue": "expected an indented block (<ipython-input-3-b1fb9bc19953>, line 2)",
     "output_type": "error",
     "traceback": [
      "\u001b[0;36m  File \u001b[0;32m\"<ipython-input-3-b1fb9bc19953>\"\u001b[0;36m, line \u001b[0;32m2\u001b[0m\n\u001b[0;31m    print('That is true!')\u001b[0m\n\u001b[0m    ^\u001b[0m\n\u001b[0;31mIndentationError\u001b[0m\u001b[0;31m:\u001b[0m expected an indented block\n"
     ]
    }
   ],
   "source": [
    "if x == 1:\n",
    "print('That is true!')"
   ]
  },
  {
   "cell_type": "markdown",
   "metadata": {},
   "source": [
    "А что делать, если в том случае, когда условие не истинное, мы тоже хотим совершать какое-то действие? Для этого у нас есть ключевое слово **else (\"то\")**. "
   ]
  },
  {
   "cell_type": "code",
   "execution_count": 4,
   "metadata": {},
   "outputs": [
    {
     "name": "stdout",
     "output_type": "stream",
     "text": [
      "That is false!\n"
     ]
    }
   ],
   "source": [
    "if x != 1:\n",
    "    print('That is true!')\n",
    "else:\n",
    "    print('That is false!')"
   ]
  },
  {
   "cell_type": "markdown",
   "metadata": {},
   "source": [
    "Мы разобрались, как поступать, если у нас два варианта действий, но их может быть и больше.\n",
    "\n",
    "Для примера давайте решим простую задачу - найти минимум из двух введенных чисел. Пока ничего нового:"
   ]
  },
  {
   "cell_type": "code",
   "execution_count": 5,
   "metadata": {},
   "outputs": [
    {
     "name": "stdout",
     "output_type": "stream",
     "text": [
      "Введите первое число: 2\n",
      "Введите второе число: 3\n",
      "Минимум равен 2\n"
     ]
    }
   ],
   "source": [
    "a = input('Введите первое число: ')\n",
    "b = input('Введите второе число: ')\n",
    "if a < b:\n",
    "    min_n = a\n",
    "else:\n",
    "    min_n = b\n",
    "print('Минимум равен', min_n)"
   ]
  },
  {
   "cell_type": "markdown",
   "metadata": {},
   "source": [
    "А теперь усложним задание, добавив третий вариант развития событий - если числа равны, будем печатать *'Равные числа'*.\n",
    "\n",
    "Можно решить эту задачу с помощью вложенных условий:"
   ]
  },
  {
   "cell_type": "code",
   "execution_count": 31,
   "metadata": {},
   "outputs": [
    {
     "name": "stdout",
     "output_type": "stream",
     "text": [
      "Enter the first number:4\n",
      "Enter the second number: 4\n",
      "Равные числа: 4\n"
     ]
    }
   ],
   "source": [
    "a = input('Введите первое число: ')\n",
    "b = input('Введите второе число: ')\n",
    "if a < b: \n",
    "    print(a)\n",
    "else:\n",
    "    if a > b: # обратите внимание, здесь одно условие находится внутри другого, и код ниже будет писаться после двойного отступа\n",
    "        print(b)\n",
    "    else:\n",
    "        print('Равные числа:', a)"
   ]
  },
  {
   "cell_type": "markdown",
   "metadata": {},
   "source": [
    "Неплохо, но можно упростить это решение с помощью конструкции **else if (или elif)**, которая позволяет в случае ложности условия сразу же написать еще одну проверку.\n",
    "\n",
    "Вот как будет выглядеть решение нашей задачи с помощью elif:"
   ]
  },
  {
   "cell_type": "code",
   "execution_count": 37,
   "metadata": {},
   "outputs": [
    {
     "name": "stdout",
     "output_type": "stream",
     "text": [
      "Enter the first number:4\n",
      "Enter the second number: 5\n",
      "4\n"
     ]
    }
   ],
   "source": [
    "a = input('Введите первое число: ')\n",
    "b = input('Введите второе число: ')\n",
    "if a < b: \n",
    "    print(a)\n",
    "elif a > b: \n",
    "    print(b)\n",
    "else:\n",
    "    print('Равные числа:', a)\n"
   ]
  },
  {
   "cell_type": "code",
   "execution_count": 36,
   "metadata": {},
   "outputs": [
    {
     "name": "stdout",
     "output_type": "stream",
     "text": [
      "A is big\n"
     ]
    }
   ],
   "source": [
    "a = 10\n",
    "if a > 5:\n",
    "    print(\"A is big\")\n",
    "elif a >0:\n",
    "    print(\"A is amall\")"
   ]
  },
  {
   "cell_type": "markdown",
   "metadata": {},
   "source": [
    "# Задачи для тренировки"
   ]
  },
  {
   "cell_type": "markdown",
   "metadata": {},
   "source": [
    "### Распродажа\n",
    "\n",
    "В магазине проходит акция:\n",
    "* На все товары дешевле 1000 рублей скидка 15%\n",
    "* На все товары дороже 1000, но дешевле 5000 рублей скидка 20%\n",
    "* На все товары дороже 5000 рублей скидка 25%\n",
    "\n",
    "**Ввод**  \n",
    "Целое неотрицательное число - цена товара в рублях\n",
    "\n",
    "**Вывод**  \n",
    "Целое неотрицательное число - скидка на товар в рублях"
   ]
  },
  {
   "cell_type": "code",
   "execution_count": 50,
   "metadata": {},
   "outputs": [
    {
     "name": "stdout",
     "output_type": "stream",
     "text": [
      "10000\n",
      "2500.0\n"
     ]
    }
   ],
   "source": [
    "# место для решения\n",
    "price = int(input())\n",
    "if price <= 1000 :\n",
    "   print (price *0.15)\n",
    "elif price <= 5000:\n",
    "   print (price * 0.2)\n",
    "else:\n",
    "    print(price * 0.25)\n",
    "\n",
    "\n"
   ]
  },
  {
   "cell_type": "markdown",
   "metadata": {},
   "source": [
    "## Хитрости умножения  \n",
    "\n",
    "Для умножения двузначного числа на 11 есть интересная хитрость: результат произведения можно получить если между первой и второй цифрой исходного числа вписать сумму этих цифр. Например, 15 * 11 = 1 1+5 5 = 165 или 34 * 11 = 3 3+4 4 = 374. Реализуйте программу, которая умножала бы двузначные числа на 11, используя эту хитрость. Пользоваться оператором умножения нельзя.  \n",
    "\n",
    "__Формат ввода:__  \n",
    "Вводится двузначное число.  \n",
    "__Формат вывода:__  \n",
    "Программа должна вывести ответ на задачу.  \n",
    "\n",
    "**Тест 1**  \n",
    "__Пример ввода:__  \n",
    "15   \n",
    "__Вывод:__  \n",
    "165  \n",
    "\n",
    "**Тест 2**  \n",
    "__Пример ввода:__   \n",
    "66      \n",
    "__Вывод:__   \n",
    "726   "
   ]
  },
  {
   "cell_type": "code",
   "execution_count": 78,
   "metadata": {},
   "outputs": [
    {
     "name": "stdout",
     "output_type": "stream",
     "text": [
      "89\n",
      "979\n"
     ]
    }
   ],
   "source": [
    "# ваше решение здесь\n",
    "number = input()\n",
    "sum_of_digits = int(number[0]) + int(number[1])\n",
    "if sum_of_digits < 10:\n",
    "    result = number[0] + str(sum_of_digits) + number[1]\n",
    "else:\n",
    "    first_digit = str(int(number[0]) + 1)\n",
    "    result = first_digit + str(sum_of_digits)[1] + number[1]\n",
    "print(result)"
   ]
  },
  {
   "cell_type": "code",
   "execution_count": 2,
   "metadata": {},
   "outputs": [
    {
     "name": "stdout",
     "output_type": "stream",
     "text": [
      "15.05.2020\n",
      "15\n",
      "2020\n",
      "may\n",
      "MAY\n"
     ]
    }
   ],
   "source": [
    "date = input()\n",
    "day = date[0:2]\n",
    "month = int(date[3:5])\n",
    "year = date[6:10]\n",
    "print(day)\n",
    "print(year)\n",
    "if month==1:\n",
    "    print(\"january\")\n",
    "    print(\"JAN\")\n",
    "elif month==2:\n",
    "    print(\"february\")\n",
    "    print(\"FEB\")\n",
    "elif month==3:\n",
    "    print(\"march\")\n",
    "    print(\"MAR\")\n",
    "elif month==4:\n",
    "    print(\"april\")\n",
    "    print(\"APR\")\n",
    "elif month==5:\n",
    "    print(\"may\")\n",
    "    print(\"MAY\")\n",
    "elif month==6:\n",
    "    print(\"june\")\n",
    "    print(\"JUN\")\n",
    "elif month==7:\n",
    "    print(\"july\")\n",
    "    print(\"JUL\")\n",
    "elif month==8:\n",
    "    print(\"august\")\n",
    "    print(\"AUG\")\n",
    "elif month==9:\n",
    "    print(\"september\")\n",
    "    print(\"SEP\")\n",
    "elif month==10:\n",
    "    print(\"october\")\n",
    "    print(\"OCT\")\n",
    "elif month==11:\n",
    "    print(\"november\")\n",
    "    print(\"NOV\")\n",
    "elif month==12:\n",
    "    print(\"december\")\n",
    "    print(\"DEC\")"
   ]
  },
  {
   "cell_type": "markdown",
   "metadata": {},
   "source": [
    "# Цикл while"
   ]
  },
  {
   "cell_type": "markdown",
   "metadata": {},
   "source": [
    "Довольно часто задачи требуют от нас несколько раз выполнить однотипный код.\n",
    "\n",
    "Если писать несколько раз одни и те же строки, это загромождает программу. Иногда несколько раз превращается в много (100 или 10000).\n",
    "А иногда это число вообще зависит от параметров ввода.\n",
    "\n",
    "Справиться с этим помогают **циклы**. На этом семинаре мы поработаем с циклом **while (пока)**"
   ]
  },
  {
   "cell_type": "markdown",
   "metadata": {},
   "source": [
    "Прицип использования цикла while: записываем логическое выражение и некоторый код. Код будет выполняться до тех пор, пока логическое выражение верно.\n",
    "\n",
    "Например, давайте напечатаем все целые числа от 1 до 10."
   ]
  },
  {
   "cell_type": "code",
   "execution_count": null,
   "metadata": {},
   "outputs": [],
   "source": [
    "i = 1 \n",
    "while True\n",
    "   if i == 3:\n",
    "     \n",
    "2 + 2 "
   ]
  },
  {
   "cell_type": "markdown",
   "metadata": {},
   "source": [
    "Здесь мы использовали запись i += 1. Она эквивалентна i = i + 1.  \n",
    "Аналогично можно записывать и другие арифметические операции: например, -="
   ]
  },
  {
   "cell_type": "markdown",
   "metadata": {},
   "source": [
    "Обратите внимание, что код внутри цикла (тот, который мы хотим повторно выполнять), выделяется отступом."
   ]
  },
  {
   "cell_type": "markdown",
   "metadata": {},
   "source": [
    "## Операторы break и continue."
   ]
  },
  {
   "cell_type": "markdown",
   "metadata": {},
   "source": [
    "Циклами можно управлять с помощью операторов **break**, **continue**."
   ]
  },
  {
   "cell_type": "markdown",
   "metadata": {},
   "source": [
    "**Break** внутри цикла позволяет прервать его выполнение и сразу же перейти к коду, который идет после цикла (либо завершить программу).  \n",
    "\n",
    "В этом случае мы можем написать сразу после цикла секцию **else** (синтаксис при этом такой же, как и в условиях).  \n",
    "Код, написанный после **else**, будет выполняться, если цикл завершился \"естественным путем\" (т.е. не был прерван с помощью break)."
   ]
  },
  {
   "cell_type": "markdown",
   "metadata": {},
   "source": [
    "### Задача\n",
    "\n",
    "Рассмотрим пример задачи, которую можно решить с использованием break. \n",
    "\n",
    "Пусть студент сдал 5 предметов во время сессии и мы хотим узнать, есть ли у него пересдачи\n",
    "\n",
    "**Формат ввода**  \n",
    "До пяти оценок от 1 до 10\n",
    "\n",
    "**Формат вывода**  \n",
    "Если хотя бы одна из оценок меньше 4, завершаем программу и печатаем 'YES' (пересдачи есть)  \n",
    "Если все пять оценок больше 3, печатаем 'NO' (студент закрыл сессию без пересдач)"
   ]
  },
  {
   "cell_type": "code",
   "execution_count": 11,
   "metadata": {},
   "outputs": [
    {
     "name": "stdout",
     "output_type": "stream",
     "text": [
      "Введите оценку: 6\n",
      "Введите оценку: 7\n",
      "Введите оценку: 3\n",
      "YES\n"
     ]
    }
   ],
   "source": [
    "i = 1\n",
    "while i <= 5:\n",
    "    mark = int(input(\"Введите оценку: \"))\n",
    "    if mark < 4:\n",
    "        print('YES')\n",
    "        break\n",
    "    i += 1\n",
    "else: # else находится на том же уровне отступа, что и while, поэтому относится именно к циклу, а не к условию внутри цикла\n",
    "    print ('NO')"
   ]
  },
  {
   "cell_type": "markdown",
   "metadata": {},
   "source": [
    "Оператор **continue** позволяет сразу же перейти на новую итерацию цикла, не выполняя код, который написан внутри цикла ниже его."
   ]
  },
  {
   "cell_type": "markdown",
   "metadata": {},
   "source": [
    "Изменим условие задачи - теперь будем считать количество пересдач у студента"
   ]
  },
  {
   "cell_type": "code",
   "execution_count": 12,
   "metadata": {},
   "outputs": [
    {
     "name": "stdout",
     "output_type": "stream",
     "text": [
      "Введите оценку: 5\n",
      "Введите оценку: 2\n",
      "Введите оценку: 7\n",
      "Введите оценку: 8\n",
      "Введите оценку: 3\n",
      "Итого пересдач: 2\n"
     ]
    }
   ],
   "source": [
    "i = 1\n",
    "retakes = 0\n",
    "while i <= 5:\n",
    "    mark = int(input(\"Введите оценку: \"))\n",
    "    i += 1\n",
    "    if mark >= 4: # если пересдачи нет, сразу же идем проверять переменную i, без увеличения переменной retakes\n",
    "        continue\n",
    "    retakes += 1\n",
    "print(\"Итого пересдач:\", retakes)"
   ]
  },
  {
   "cell_type": "markdown",
   "metadata": {},
   "source": [
    "Операторами break и continue не стоит злоупотреблять, это может ухудшить читаемость кода.\n",
    "\n",
    "Например, в предыдущем примере мы бы справились и без continue:"
   ]
  },
  {
   "cell_type": "code",
   "execution_count": 13,
   "metadata": {},
   "outputs": [
    {
     "name": "stdout",
     "output_type": "stream",
     "text": [
      "Введите оценку: 5\n",
      "Введите оценку: 6\n",
      "Введите оценку: 7\n",
      "Введите оценку: 1\n",
      "Введите оценку: 7\n",
      "Итого пересдач: 1\n"
     ]
    }
   ],
   "source": [
    "i = 1\n",
    "retakes = 0\n",
    "while i <= 5:\n",
    "    mark = int(input(\"Введите оценку: \"))\n",
    "    i += 1\n",
    "    if mark < 4:\n",
    "        retakes += 1\n",
    "print(\"Итого пересдач:\", retakes)"
   ]
  },
  {
   "cell_type": "markdown",
   "metadata": {},
   "source": [
    "## (∩｀-´)⊃━☆ﾟ.*･｡ﾟ Задача\n",
    "Вася начал бегать и в первый день он пробежал X километров и выдохся. Вася поставил себе цель Y километров и решил узнать, когда он ее достигнет, если каждый день будет бегать дистанцию на 10% больше, чем в предыдущий.\n",
    "\n",
    "**Формат ввода**\n",
    "\n",
    "Программа получает на вход целые числа X, Y\n",
    "\n",
    "**Формат вывода**\n",
    "\n",
    "Одно целое число (день, когда Вася пробежит свою цель)\n",
    "\n",
    "**Примеры**  \n",
    "**Ввод:**  \n",
    "10  \n",
    "21\n",
    "\n",
    "**Вывод:**  \n",
    "9"
   ]
  },
  {
   "cell_type": "code",
   "execution_count": 14,
   "metadata": {},
   "outputs": [],
   "source": [
    "# ваше решение здесь\n",
    "\n"
   ]
  },
  {
   "cell_type": "markdown",
   "metadata": {},
   "source": [
    "## (∩｀-´)⊃━☆ﾟ.*･｡ﾟ Задача\n",
    "\n",
    "## Cложные проценты\n",
    "Процентная ставка по вкладу составляет P процентов годовых, которые прибавляются к сумме вклада через год. Вклад составляет X рублей Y копеек. Дробное число копеек по истечении года отбрасывается. Выведите величину вклада в рублях.\n",
    "\n",
    "**Формат ввода**\n",
    "\n",
    "Программа получает на вход целые числа P, X, Y, K.\n",
    "\n",
    "**Формат вывода**\n",
    "\n",
    "Программа должна вывести два числа: величину вклада через K лет в рублях и копейках. Перерасчет суммы вклада (с отбрасыванием дробных частей копеек) происходит ежегодно.\n",
    "\n",
    "**Примеры**  \n",
    "Тест 1  \n",
    "**Входные данные:**  \n",
    "12  \n",
    "179  \n",
    "0  \n",
    "5  \n",
    "\n",
    "**Вывод программы:**  \n",
    "315 43\n",
    "\n",
    "Тест 2  \n",
    "**Входные данные:**  \n",
    "13  \n",
    "179  \n",
    "0  \n",
    "100  \n",
    "\n",
    "**Вывод программы:**   \n",
    "36360285 50\n",
    "\n",
    "Тест 3  \n",
    "**Входные данные:**   \n",
    "1  \n",
    "1  \n",
    "0  \n",
    "1000  \n",
    "\n",
    "**Вывод программы:**  \n",
    "11881 92"
   ]
  },
  {
   "cell_type": "code",
   "execution_count": 15,
   "metadata": {},
   "outputs": [],
   "source": [
    "# ваше решение здесь\n",
    "\n"
   ]
  },
  {
   "cell_type": "markdown",
   "metadata": {},
   "source": [
    "## Функция range"
   ]
  },
  {
   "cell_type": "markdown",
   "metadata": {},
   "source": [
    "Давайте решим задачу - на вход подается число N, нужно сгенерировать список от 1 до N. "
   ]
  },
  {
   "cell_type": "code",
   "execution_count": 16,
   "metadata": {},
   "outputs": [
    {
     "name": "stdout",
     "output_type": "stream",
     "text": [
      "5\n",
      "[1, 2, 3, 4, 5]\n"
     ]
    }
   ],
   "source": [
    "i = 1\n",
    "myList = []\n",
    "N = int(input())\n",
    "\n",
    "while i <= N:\n",
    "    myList.append(i)\n",
    "    i += 1\n",
    "    \n",
    "print(myList)"
   ]
  },
  {
   "cell_type": "markdown",
   "metadata": {},
   "source": [
    "Неплохо, но python предлагает нам готовое решение - встроенную функцию range().\n",
    "\n",
    "range(N) возвращает диапазон чисел от 0 до N - 1."
   ]
  },
  {
   "cell_type": "code",
   "execution_count": 17,
   "metadata": {},
   "outputs": [
    {
     "name": "stdout",
     "output_type": "stream",
     "text": [
      "0 8 9\n"
     ]
    }
   ],
   "source": [
    "myRange = range(10)\n",
    "print(myRange[0], myRange[8], myRange[-1])"
   ]
  },
  {
   "cell_type": "markdown",
   "metadata": {},
   "source": [
    "Есть одно но - range возвращает не список и не кортеж, это становится понятно, если попробовать напечатать результат."
   ]
  },
  {
   "cell_type": "code",
   "execution_count": 18,
   "metadata": {},
   "outputs": [
    {
     "name": "stdout",
     "output_type": "stream",
     "text": [
      "range(0, 10)\n",
      "<class 'range'>\n"
     ]
    }
   ],
   "source": [
    "print(myRange)\n",
    "print(type(myRange))"
   ]
  },
  {
   "cell_type": "markdown",
   "metadata": {},
   "source": [
    "Выручает старое доброе преобразование типов."
   ]
  },
  {
   "cell_type": "code",
   "execution_count": 19,
   "metadata": {},
   "outputs": [
    {
     "name": "stdout",
     "output_type": "stream",
     "text": [
      "[0, 1, 2, 3, 4, 5, 6, 7, 8, 9]\n",
      "(0, 1, 2, 3, 4, 5, 6, 7, 8, 9)\n"
     ]
    }
   ],
   "source": [
    "print(list(myRange))\n",
    "print(tuple(myRange))"
   ]
  },
  {
   "cell_type": "markdown",
   "metadata": {},
   "source": [
    "Функция range ведет себя очень похоже на срезы.  \n",
    "range(N, M) вернет диапазон от N до M - 1.  \n",
    "range(N, M, i) вернет диапазон от N до M - 1 с шагом i."
   ]
  },
  {
   "cell_type": "code",
   "execution_count": 20,
   "metadata": {},
   "outputs": [
    {
     "name": "stdout",
     "output_type": "stream",
     "text": [
      "[1, 2, 3, 4]\n",
      "[1, 3, 5, 7, 9]\n",
      "[-5, -4, -3, -2]\n",
      "[-5, -7, -9]\n"
     ]
    }
   ],
   "source": [
    "print(list(range(1, 5)))\n",
    "print(list(range(1, 10, 2)))\n",
    "print(list(range(-5, -1)))\n",
    "print(list(range(-5, -10, -2)))"
   ]
  },
  {
   "cell_type": "code",
   "execution_count": 20,
   "metadata": {},
   "outputs": [],
   "source": [
    "list = [\"I\", \"am\", \"groot\"]\n",
    "list.append(\"great\")\n",
    "list.reverse()\n",
    "\n",
    "\n"
   ]
  },
  {
   "cell_type": "markdown",
   "metadata": {},
   "source": [
    "## Цикл for"
   ]
  },
  {
   "cell_type": "markdown",
   "metadata": {},
   "source": [
    "Мы уже умеем писать циклы с помощью оператора while, но теперь мы готовы познакомиться с еще одним способом. \n",
    "\n",
    "Давайте вспомним про наш список студентов и выведем их имена по очереди. Для начала уже знакомым способом."
   ]
  },
  {
   "cell_type": "code",
   "execution_count": 21,
   "metadata": {},
   "outputs": [
    {
     "name": "stdout",
     "output_type": "stream",
     "text": [
      "Ivan Ivanov\n",
      "Tatiana Sidorova\n",
      "Maria Smirnova\n"
     ]
    }
   ],
   "source": [
    "students = ['Ivan Ivanov', 'Tatiana Sidorova', 'Maria Smirnova']\n",
    "\n",
    "i = 0\n",
    "while i < len(students):\n",
    "    print(students[i])\n",
    "    i += 1"
   ]
  },
  {
   "cell_type": "markdown",
   "metadata": {},
   "source": [
    "А теперь напишем то же самое с помощью цикла for.\n",
    "\n",
    "Теперь мы будем перебирать список students, доставая из него по одному элементу."
   ]
  },
  {
   "cell_type": "code",
   "execution_count": 22,
   "metadata": {},
   "outputs": [
    {
     "name": "stdout",
     "output_type": "stream",
     "text": [
      "Ivan Ivanov\n",
      "Tatiana Sidorova\n",
      "Maria Smirnova\n"
     ]
    }
   ],
   "source": [
    "students = ['Ivan Ivanov', 'Tatiana Sidorova', 'Maria Smirnova']\n",
    "\n",
    "for student in students:\n",
    "    print(student)"
   ]
  },
  {
   "cell_type": "markdown",
   "metadata": {},
   "source": [
    "В примере выше на каждом шаге цикл for достает очередной элемент из списка students и сохраняет его в переменную student.\n",
    "\n",
    "Обратите внимание, что переменную student нам не надо создавать заранее, она создается прямо во время работы цикла.\n",
    "\n",
    "Получившийся код гораздо короче и проще варианта с использованием while."
   ]
  },
  {
   "cell_type": "markdown",
   "metadata": {},
   "source": [
    "Цикл for может перебирать и элементы range, это дает нам еще один способ решения задачи."
   ]
  },
  {
   "cell_type": "code",
   "execution_count": 23,
   "metadata": {},
   "outputs": [
    {
     "name": "stdout",
     "output_type": "stream",
     "text": [
      "Ivan Ivanov\n",
      "Tatiana Sidorova\n",
      "Maria Smirnova\n"
     ]
    }
   ],
   "source": [
    "students = ['Ivan Ivanov', 'Tatiana Sidorova', 'Maria Smirnova']\n",
    "\n",
    "for i in range(len(students)): # здесь не надо преобразовывать range в список или кортеж\n",
    "    print(students[i])"
   ]
  },
  {
   "cell_type": "markdown",
   "metadata": {},
   "source": [
    "Цикл for может перебирать и кортежи, и даже строки."
   ]
  },
  {
   "cell_type": "code",
   "execution_count": 24,
   "metadata": {},
   "outputs": [
    {
     "name": "stdout",
     "output_type": "stream",
     "text": [
      "H\n",
      "e\n",
      "l\n",
      "l\n",
      "o\n"
     ]
    }
   ],
   "source": [
    "myStr = 'Hello'\n",
    "\n",
    "for char in myStr:\n",
    "    print(char)"
   ]
  },
  {
   "cell_type": "markdown",
   "metadata": {},
   "source": [
    "# Задача\n",
    "\n",
    "Пройтись в цикле по элементам списка и посчитать их сумму.\n",
    "\n",
    "**Формат ввода**\n",
    "\n",
    "Программа получает на вход числа через пробел.\n",
    "\n",
    "**Формат вывода**\n",
    "\n",
    "Сумма элементов списка."
   ]
  },
  {
   "cell_type": "code",
   "execution_count": 25,
   "metadata": {},
   "outputs": [],
   "source": [
    "#ваше решение здесь"
   ]
  },
  {
   "cell_type": "markdown",
   "metadata": {},
   "source": [
    "# Задача\n",
    "\n",
    "Выведите значение наименьшего из всех положительных элементов в списке. Известно, что в списке есть хотя бы один положительный элемент, а значения всех элементов списка по модулю не превосходят 1000.\n",
    "\n",
    "**Формат ввода**\n",
    "\n",
    "Вводится список чисел. Все числа списка находятся на одной строке.\n",
    "\n",
    "**Формат вывода**\n",
    "\n",
    "Выведите ответ на задачу.\n",
    "\n",
    "**Пример 1**\n",
    "\n",
    "**Ввод**\n",
    "\n",
    "5 -4 3 -2 1\n",
    "\n",
    "**Вывод**\n",
    "\n",
    "1\n",
    "\n",
    "**Пример 2**\n",
    "\n",
    "**Ввод**\n",
    "\n",
    "10 5 0 -5 -10\n",
    "\n",
    "**Вывод**\n",
    "\n",
    "5\n",
    "\n",
    "**Пример 3**\n",
    "\n",
    "**Ввод**\n",
    "\n",
    "-1 -2 -3 -4 100\n",
    "\n",
    "**Вывод**\n",
    "\n",
    "100"
   ]
  },
  {
   "cell_type": "code",
   "execution_count": 26,
   "metadata": {},
   "outputs": [],
   "source": [
    "#ваше решение здесь"
   ]
  },
  {
   "cell_type": "code",
   "execution_count": 32,
   "metadata": {
    "scrolled": true
   },
   "outputs": [
    {
     "ename": "NameError",
     "evalue": "name 'password' is not defined",
     "output_type": "error",
     "traceback": [
      "\u001b[1;31m---------------------------------------------------------------------------\u001b[0m",
      "\u001b[1;31mNameError\u001b[0m                                 Traceback (most recent call last)",
      "\u001b[1;32m<ipython-input-32-8008b3a30371>\u001b[0m in \u001b[0;36m<module>\u001b[1;34m\u001b[0m\n\u001b[1;32m----> 1\u001b[1;33m \u001b[0mis_longer_than_8\u001b[0m \u001b[1;33m=\u001b[0m \u001b[0mlen\u001b[0m\u001b[1;33m(\u001b[0m\u001b[0mpassword\u001b[0m\u001b[1;33m)\u001b[0m \u001b[1;33m>\u001b[0m \u001b[1;36m8\u001b[0m\u001b[1;33m\u001b[0m\u001b[1;33m\u001b[0m\u001b[0m\n\u001b[0m\u001b[0;32m      2\u001b[0m \u001b[0mhas_large_letter\u001b[0m \u001b[1;33m=\u001b[0m \u001b[0mfalse\u001b[0m\u001b[1;33m\u001b[0m\u001b[1;33m\u001b[0m\u001b[0m\n\u001b[0;32m      3\u001b[0m \u001b[1;32mfor\u001b[0m \u001b[0mletter\u001b[0m \u001b[1;32min\u001b[0m \u001b[0mpassword\u001b[0m\u001b[1;33m:\u001b[0m\u001b[1;33m\u001b[0m\u001b[1;33m\u001b[0m\u001b[0m\n\u001b[0;32m      4\u001b[0m     \u001b[1;32mif\u001b[0m \u001b[0mletter\u001b[0m\u001b[1;33m.\u001b[0m\u001b[0misupper\u001b[0m\u001b[1;33m(\u001b[0m\u001b[1;33m)\u001b[0m\u001b[1;33m:\u001b[0m\u001b[1;33m\u001b[0m\u001b[1;33m\u001b[0m\u001b[0m\n\u001b[0;32m      5\u001b[0m         \u001b[0mhas_large_letter\u001b[0m \u001b[1;33m=\u001b[0m \u001b[0mtrue\u001b[0m\u001b[1;33m\u001b[0m\u001b[1;33m\u001b[0m\u001b[0m\n",
      "\u001b[1;31mNameError\u001b[0m: name 'password' is not defined"
     ]
    }
   ],
   "source": [
    "is_longer_than_8 = len(password) > 8\n",
    "has_large_letter = false\n",
    "for letter in password:\n",
    "    if letter.isupper():\n",
    "        has_large_letter = true\n",
    "        return true\n",
    "    else:\n",
    "        return false\n",
    "has_small_letter = false\n",
    "for letter in pssword:\n",
    "    if letter.ilower():\n",
    "       has_small_letter = true\n",
    "       return true\n",
    "    else:\n",
    "       return false\n",
    "if len(password) < 4:\n",
    "    if password.lower().find(\"anna\"):\n",
    "         print(\"weak\")\n",
    "    else:\n",
    "         print(\"strong\")"
   ]
  },
  {
   "cell_type": "code",
   "execution_count": null,
   "metadata": {},
   "outputs": [],
   "source": []
  }
 ],
 "metadata": {
  "kernelspec": {
   "display_name": "Python 3",
   "language": "python",
   "name": "python3"
  },
  "language_info": {
   "codemirror_mode": {
    "name": "ipython",
    "version": 3
   },
   "file_extension": ".py",
   "mimetype": "text/x-python",
   "name": "python",
   "nbconvert_exporter": "python",
   "pygments_lexer": "ipython3",
   "version": "3.8.5"
  }
 },
 "nbformat": 4,
 "nbformat_minor": 2
}
